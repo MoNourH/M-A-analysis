{
 "cells": [
  {
   "cell_type": "code",
   "execution_count": 1,
   "id": "5e80eb30-d3fe-4565-833b-1e1968ac441d",
   "metadata": {},
   "outputs": [],
   "source": [
    "# Import Libs\n",
    "import calendar\n",
    "import pandas as pd\n",
    "import numpy as np\n",
    "import matplotlib.pyplot as plt"
   ]
  },
  {
   "cell_type": "code",
   "execution_count": 3,
   "id": "bcc149d9-e3f4-4ffd-bebc-093324761c13",
   "metadata": {},
   "outputs": [
    {
     "name": "stdout",
     "output_type": "stream",
     "text": [
      "Initial columns:  Index(['ID', 'Parent Company', 'Acquisition Year', 'Acquisition Month',\n",
      "       'Acquired Company', 'Business', 'Country', 'Acquisition Price',\n",
      "       'Category', 'Derived Products'],\n",
      "      dtype='object')\n"
     ]
    },
    {
     "data": {
      "text/html": [
       "<div>\n",
       "<style scoped>\n",
       "    .dataframe tbody tr th:only-of-type {\n",
       "        vertical-align: middle;\n",
       "    }\n",
       "\n",
       "    .dataframe tbody tr th {\n",
       "        vertical-align: top;\n",
       "    }\n",
       "\n",
       "    .dataframe thead th {\n",
       "        text-align: right;\n",
       "    }\n",
       "</style>\n",
       "<table border=\"1\" class=\"dataframe\">\n",
       "  <thead>\n",
       "    <tr style=\"text-align: right;\">\n",
       "      <th></th>\n",
       "      <th>ID</th>\n",
       "      <th>Parent Company</th>\n",
       "      <th>Acquisition Year</th>\n",
       "      <th>Acquisition Month</th>\n",
       "      <th>Acquired Company</th>\n",
       "      <th>Business</th>\n",
       "      <th>Country</th>\n",
       "      <th>Acquisition Price</th>\n",
       "      <th>Category</th>\n",
       "      <th>Derived Products</th>\n",
       "    </tr>\n",
       "  </thead>\n",
       "  <tbody>\n",
       "    <tr>\n",
       "      <th>0</th>\n",
       "      <td>1</td>\n",
       "      <td>Apple</td>\n",
       "      <td>1988</td>\n",
       "      <td>Mar</td>\n",
       "      <td>Network Innovations</td>\n",
       "      <td>Software</td>\n",
       "      <td>-</td>\n",
       "      <td>-</td>\n",
       "      <td>-</td>\n",
       "      <td>-</td>\n",
       "    </tr>\n",
       "    <tr>\n",
       "      <th>1</th>\n",
       "      <td>2</td>\n",
       "      <td>Apple</td>\n",
       "      <td>1988</td>\n",
       "      <td>Jun</td>\n",
       "      <td>Orion Network Systems</td>\n",
       "      <td>Computer Software</td>\n",
       "      <td>-</td>\n",
       "      <td>-</td>\n",
       "      <td>-</td>\n",
       "      <td>-</td>\n",
       "    </tr>\n",
       "    <tr>\n",
       "      <th>2</th>\n",
       "      <td>3</td>\n",
       "      <td>Apple</td>\n",
       "      <td>1988</td>\n",
       "      <td>Jun</td>\n",
       "      <td>Styleware</td>\n",
       "      <td>Computer software</td>\n",
       "      <td>-</td>\n",
       "      <td>-</td>\n",
       "      <td>-</td>\n",
       "      <td>-</td>\n",
       "    </tr>\n",
       "    <tr>\n",
       "      <th>3</th>\n",
       "      <td>4</td>\n",
       "      <td>Apple</td>\n",
       "      <td>1988</td>\n",
       "      <td>Jul</td>\n",
       "      <td>Nashoba Systems</td>\n",
       "      <td>Computer software</td>\n",
       "      <td>-</td>\n",
       "      <td>-</td>\n",
       "      <td>-</td>\n",
       "      <td>-</td>\n",
       "    </tr>\n",
       "    <tr>\n",
       "      <th>4</th>\n",
       "      <td>5</td>\n",
       "      <td>Apple</td>\n",
       "      <td>1989</td>\n",
       "      <td>Jan</td>\n",
       "      <td>Coral Software</td>\n",
       "      <td>Computer software</td>\n",
       "      <td>-</td>\n",
       "      <td>-</td>\n",
       "      <td>-</td>\n",
       "      <td>-</td>\n",
       "    </tr>\n",
       "  </tbody>\n",
       "</table>\n",
       "</div>"
      ],
      "text/plain": [
       "   ID Parent Company Acquisition Year Acquisition Month  \\\n",
       "0   1          Apple             1988               Mar   \n",
       "1   2          Apple             1988               Jun   \n",
       "2   3          Apple             1988               Jun   \n",
       "3   4          Apple             1988               Jul   \n",
       "4   5          Apple             1989               Jan   \n",
       "\n",
       "        Acquired Company           Business Country Acquisition Price  \\\n",
       "0    Network Innovations           Software       -                 -   \n",
       "1  Orion Network Systems  Computer Software       -                 -   \n",
       "2              Styleware  Computer software       -                 -   \n",
       "3        Nashoba Systems  Computer software       -                 -   \n",
       "4         Coral Software  Computer software       -                 -   \n",
       "\n",
       "  Category Derived Products  \n",
       "0        -                -  \n",
       "1        -                -  \n",
       "2        -                -  \n",
       "3        -                -  \n",
       "4        -                -  "
      ]
     },
     "execution_count": 3,
     "metadata": {},
     "output_type": "execute_result"
    }
   ],
   "source": [
    "#Load the Data\n",
    "df = pd.read_csv(\"acquisitions_update_2021.csv\")\n",
    "print(\"Initial columns: \", df.columns)\n",
    "df.head()"
   ]
  },
  {
   "cell_type": "code",
   "execution_count": 5,
   "id": "7449d309-f18d-4ad7-bae0-36ea0c7d6b4d",
   "metadata": {},
   "outputs": [
    {
     "data": {
      "text/plain": [
       "ID                   0\n",
       "Parent Company       0\n",
       "Acquisition Year     0\n",
       "Acquisition Month    0\n",
       "Acquired Company     0\n",
       "Business             0\n",
       "Country              0\n",
       "Acquisition Price    0\n",
       "Category             0\n",
       "Derived Products     0\n",
       "dtype: int64"
      ]
     },
     "execution_count": 5,
     "metadata": {},
     "output_type": "execute_result"
    }
   ],
   "source": [
    "#Check missing values\n",
    "df.isnull().sum()"
   ]
  },
  {
   "cell_type": "code",
   "execution_count": 7,
   "id": "01ce36c4-e76b-475b-87cf-0edf201992a2",
   "metadata": {},
   "outputs": [
    {
     "name": "stdout",
     "output_type": "stream",
     "text": [
      "\n",
      "Unique Months After Cleaning:\n",
      " [ 3  6  7  1  2  9 11  4  5 12 10  8]\n"
     ]
    }
   ],
   "source": [
    "# Create mapping for month abbreviations to numbers\n",
    "month_map_abbr = {month: index for index, month in enumerate(calendar.month_abbr) if month}\n",
    "\n",
    "# Replace non-numeric values explicitly\n",
    "df['Acquisition Month'] = df['Acquisition Month'].replace('-', np.nan)\n",
    "\n",
    "# Convert month abbreviations to numbers\n",
    "df['Acquisition Month'] = df['Acquisition Month'].map(month_map_abbr)\n",
    "\n",
    "# Fill NaN with default month (January = 1)\n",
    "df['Acquisition Month'] = df['Acquisition Month'].fillna(1).astype(int)\n",
    "\n",
    "print(\"\\nUnique Months After Cleaning:\\n\", df['Acquisition Month'].unique())"
   ]
  },
  {
   "cell_type": "code",
   "execution_count": 25,
   "id": "e99e7bdb-db97-4130-957e-cc94a8d778bd",
   "metadata": {},
   "outputs": [
    {
     "name": "stdout",
     "output_type": "stream",
     "text": [
      "\n",
      "Sample of Acquisition Date:\n",
      "      Acquisition Year  Acquisition Month Acquisition Date\n",
      "634              2017                  8       2017-08-01\n",
      "123              2008                  7       2008-07-01\n",
      "26               2008                  4       2008-04-01\n",
      "401              2010                  6       2010-06-01\n",
      "856              2015                  9       2015-09-01\n",
      "378              2006                 10       2006-10-01\n",
      "1225             2006                  4       2006-04-01\n",
      "1446             2014                 10       2014-10-01\n",
      "158              2014                  4       2014-04-01\n",
      "569              2014                  4       2014-04-01\n"
     ]
    }
   ],
   "source": [
    "#Create Acquisition Date Column\n",
    "df['Acquisition Date'] = pd.to_datetime(\n",
    "    df['Acquisition Year'].astype(str) + '-' + df['Acquisition Month'].astype(str),\n",
    "    format='%Y-%m', errors='coerce'\n",
    ")\n",
    "\n",
    "print(\"\\nSample of Acquisition Date:\\n\", df[['Acquisition Year', 'Acquisition Month', 'Acquisition Date']].sample(10))"
   ]
  },
  {
   "cell_type": "code",
   "execution_count": 15,
   "id": "612d7342-94ce-4970-9bca-77da57ef072c",
   "metadata": {
    "scrolled": true
   },
   "outputs": [],
   "source": [
    "#Convert Acquisition Price to numeric\n",
    "df['Acquisition Price'] = pd.to_numeric(df['Acquisition Price'], errors='coerce')"
   ]
  },
  {
   "cell_type": "code",
   "execution_count": 27,
   "id": "8fda0805-4b5f-4976-8418-2b89a910ebf7",
   "metadata": {},
   "outputs": [
    {
     "data": {
      "image/png": "[encoded data removed]",
      "text/plain": [
       "<Figure size 1200x500 with 1 Axes>"
      ]
     },
     "metadata": {},
     "output_type": "display_data"
    }
   ],
   "source": [
    "df['Acquisition Date'] = pd.to_datetime(df['Acquisition Date'], errors='coerce')\n",
    "\n",
    "# Count acquisitions per year\n",
    "df['Acquisition Date'].dt.year.value_counts().sort_index().plot(\n",
    "    kind='bar', figsize=(12, 5), title=\"Acquisitions Per Year\"\n",
    ")\n",
    "plt.xlabel(\"Year\")\n",
    "plt.ylabel(\"Number of Acquisitions\")\n",
    "plt.show()"
   ]
  },
  {
   "cell_type": "code",
   "execution_count": 19,
   "id": "cdc134d5-ba86-4449-a839-22981e327aa7",
   "metadata": {},
   "outputs": [
    {
     "data": {
      "image/png": "[encoded data removed]",
      "text/plain": [
       "<Figure size 1000x500 with 1 Axes>"
      ]
     },
     "metadata": {},
     "output_type": "display_data"
    }
   ],
   "source": [
    "df['Parent Company'].value_counts().head(10).plot(\n",
    "    kind='barh', figsize=(10, 5), title=\"Top 10 Companies by Number of Acquisitions\"\n",
    ")\n",
    "plt.xlabel(\"Number of Acquisitions\")\n",
    "plt.show()"
   ]
  },
  {
   "cell_type": "code",
   "execution_count": 31,
   "id": "81816cd6-074c-4ccd-aa19-4bfc1b34996e",
   "metadata": {},
   "outputs": [
    {
     "name": "stdout",
     "output_type": "stream",
     "text": [
      "\n",
      "Top 10 Most Expensive Acquisitions (Formatted):\n",
      "      Parent Company         Acquired Company Formatted Acquisition Price\n",
      "1402         Disney         21st Century Fox                      $71.3B\n",
      "168         Twitter                Periscope                      $50.1B\n",
      "1190            Ibm                  Red Hat                      $34.0B\n",
      "872       Microsoft                 LinkedIn                      $26.2B\n",
      "350              Hp                   Compaq                      $25.0B\n",
      "917       Microsoft    Nuance Communications                      $19.7B\n",
      "1303       Facebook                 WhatsApp                      $19.0B\n",
      "1390         Disney  Capital Cities/ABC Inc.                      $19.0B\n",
      "396              Hp  Electronic Data Systems                      $13.9B\n",
      "267          Amazon       Whole Foods Market                      $13.7B\n"
     ]
    }
   ],
   "source": [
    "def format_price(value):\n",
    "    \"\"\"Convert acquisition price to human-readable format (M = million, B = billion).\"\"\"\n",
    "    if pd.isna(value):  # Handle NaN values\n",
    "        return \"N/A\"\n",
    "    elif value >= 1e9:\n",
    "        return f\"${value / 1e9:.1f}B\"  # Convert to billions\n",
    "    elif value >= 1e6:\n",
    "        return f\"${value / 1e6:.1f}M\"  # Convert to millions\n",
    "    else:\n",
    "        return f\"${value:,.0f}\"  # Show full number if less than 1 million\n",
    "\n",
    "# Apply formatting\n",
    "df['Formatted Acquisition Price'] = df['Acquisition Price'].apply(format_price)\n",
    "\n",
    "# Display the top 10 acquisitions in human-readable format\n",
    "top_acquisitions = df.nlargest(10, 'Acquisition Price')[\n",
    "    ['Parent Company', 'Acquired Company', 'Formatted Acquisition Price']\n",
    "]\n",
    "\n",
    "print(\"\\nTop 10 Most Expensive Acquisitions (Formatted):\\n\", top_acquisitions)"
   ]
  },
  {
   "cell_type": "code",
   "execution_count": 23,
   "id": "5fa9b2e9-05a7-48b1-a33b-64875575a351",
   "metadata": {},
   "outputs": [
    {
     "name": "stdout",
     "output_type": "stream",
     "text": [
      "\n",
      "Cleaned dataset saved successfully.\n"
     ]
    }
   ],
   "source": [
    "#Save the cleaned dataset\n",
    "df.to_csv(\"cleaned_MA_data.csv\", index=False)\n",
    "print(\"\\nCleaned dataset saved successfully.\")"
   ]
  },
  {
   "cell_type": "code",
   "execution_count": null,
   "id": "cd0017aa-8d09-44c8-99ac-499a7193b6f6",
   "metadata": {},
   "outputs": [],
   "source": []
  }
 ],
 "metadata": {
  "kernelspec": {
   "display_name": "Python [conda env:base] *",
   "language": "python",
   "name": "conda-base-py"
  },
  "language_info": {
   "codemirror_mode": {
    "name": "ipython",
    "version": 3
   },
   "file_extension": ".py",
   "mimetype": "text/x-python",
   "name": "python",
   "nbconvert_exporter": "python",
   "pygments_lexer": "ipython3",
   "version": "3.12.7"
  }
 },
 "nbformat": 4,
 "nbformat_minor": 5
}
